{
 "cells": [
  {
   "cell_type": "code",
   "execution_count": 1,
   "metadata": {},
   "outputs": [],
   "source": [
    "import numpy as np\n",
    "from matplotlib import pyplot as plt\n",
    "from sklearn.metrics import classification_report,confusion_matrix\n",
    "from sklearn import metrics\n",
    "\n",
    "import tensorflow as tf\n",
    "from tensorflow.keras import datasets, layers, models, Sequential\n",
    "from tensorflow.keras import models, layers, optimizers, regularizers\n",
    "# from tensorflow.keras.models import Sequential\n",
    "from tensorflow.keras.metrics import Precision, Recall, BinaryAccuracy\n",
    "\n",
    "from tensorflow.keras.layers import Conv2D, MaxPooling2D, Dense, Flatten, Dropout\n",
    "from keras.preprocessing.image import ImageDataGenerator\n",
    "\n",
    "import cv2\n",
    "\n",
    "import os"
   ]
  },
  {
   "cell_type": "code",
   "execution_count": 2,
   "metadata": {
    "scrolled": true
   },
   "outputs": [],
   "source": [
    "# Get photos for model training\n",
    "# train = tf.keras.utils.image_dataset_from_directory('./data/archive/chest_xray/chest_xray/train')\n",
    "# test = tf.keras.utils.image_dataset_from_directory('./data/archive/chest_xray/chest_xray/test')\n",
    "# val = tf.keras.utils.image_dataset_from_directory('./data/archive/chest_xray/chest_xray/val')"
   ]
  },
  {
   "cell_type": "code",
   "execution_count": 3,
   "metadata": {},
   "outputs": [],
   "source": [
    "def Get_Photo_Data(location, num_photos):\n",
    "    '''\n",
    "    Returns photos from data folder(resized, grayscaled) and binary class.\n",
    "    \n",
    "    '''\n",
    "    datagen = ImageDataGenerator(rescale=1./255)\n",
    "    \n",
    "    data = datagen.flow_from_directory(\n",
    "        location,\n",
    "        target_size=(150, 150),\n",
    "        batch_size=num_photos,\n",
    "        color_mode='grayscale',\n",
    "        class_mode='binary'\n",
    "    )\n",
    "    \n",
    "    return data"
   ]
  },
  {
   "cell_type": "code",
   "execution_count": 4,
   "metadata": {},
   "outputs": [
    {
     "name": "stdout",
     "output_type": "stream",
     "text": [
      "Found 5216 images belonging to 2 classes.\n",
      "Found 624 images belonging to 2 classes.\n",
      "Found 16 images belonging to 2 classes.\n"
     ]
    }
   ],
   "source": [
    "#getting images and labels for models\n",
    "train_photos = Get_Photo_Data('./data/archive/chest_xray/train/', 5216)\n",
    "test_photos = Get_Photo_Data('./data/archive/chest_xray/test/', 624)\n",
    "val_photos = Get_Photo_Data('./data/archive/chest_xray/val/', 16)"
   ]
  },
  {
   "cell_type": "code",
   "execution_count": 5,
   "metadata": {},
   "outputs": [],
   "source": [
    "# unpack images and labels for CM/dummy model\n",
    "train_data, train_labels = next (train_photos)\n",
    "test_data, test_labels = next (test_photos)\n",
    "val_data, val_labels = next (val_photos)"
   ]
  },
  {
   "cell_type": "markdown",
   "metadata": {},
   "source": [
    "# Model 6\n",
    "For this model we made the following changes:\n",
    "1. Add dropout for all layers\n"
   ]
  },
  {
   "cell_type": "code",
   "execution_count": 6,
   "metadata": {},
   "outputs": [],
   "source": [
    "model = Sequential()"
   ]
  },
  {
   "cell_type": "code",
   "execution_count": 7,
   "metadata": {},
   "outputs": [],
   "source": [
    "# Add layers to model\n",
    "# input layer\n",
    "\n",
    "model.add(Conv2D(64, (3,3), 1, activation='relu', padding = 'same', input_shape=(150,150,1)))\n",
    "\n",
    "# add pooling layer(takes max from input window)\n",
    "model.add(layers.MaxPooling2D((2,2)))\n",
    "\n",
    "model.add(Conv2D(32, (3,3), 1, activation='relu', padding = 'same'))\n",
    "\n",
    "# add pooling layer(takes max from input window)\n",
    "model.add(layers.MaxPooling2D((2,2)))\n",
    "\n",
    "# flattens 2d to 1d\n",
    "model.add(layers.Flatten())\n",
    "\n",
    "# add dense layer\n",
    "model.add(layers.Dense(16, activation='relu'))\n",
    "\n",
    "model.add(Dropout(0.15))\n",
    "\n",
    "# add output layer\n",
    "model.add(layers.Dense(1, activation='sigmoid'))"
   ]
  },
  {
   "cell_type": "code",
   "execution_count": 8,
   "metadata": {},
   "outputs": [],
   "source": [
    "# compile model with adam for binary model\n",
    "model.compile('adam', loss=tf.losses.BinaryCrossentropy(), metrics=['accuracy',\n",
    "                                                                    Precision(name='precision'),\n",
    "                                                                    Recall(name='recall')])"
   ]
  },
  {
   "cell_type": "code",
   "execution_count": 9,
   "metadata": {},
   "outputs": [
    {
     "name": "stdout",
     "output_type": "stream",
     "text": [
      "Epoch 1/10\n",
      "174/174 [==============================] - 11s 37ms/step - loss: 0.3247 - accuracy: 0.8748 - precision: 0.8719 - recall: 0.9747 - val_loss: 0.4966 - val_accuracy: 0.7500 - val_precision: 0.6667 - val_recall: 1.0000\n",
      "Epoch 2/10\n",
      "174/174 [==============================] - 3s 17ms/step - loss: 0.2090 - accuracy: 0.9503 - precision: 0.9589 - recall: 0.9750 - val_loss: 0.5541 - val_accuracy: 0.7500 - val_precision: 0.6667 - val_recall: 1.0000\n",
      "Epoch 3/10\n",
      "174/174 [==============================] - 3s 17ms/step - loss: 0.1136 - accuracy: 0.9594 - precision: 0.9761 - recall: 0.9690 - val_loss: 0.3518 - val_accuracy: 0.7500 - val_precision: 0.6667 - val_recall: 1.0000\n",
      "Epoch 4/10\n",
      "174/174 [==============================] - 3s 19ms/step - loss: 0.0957 - accuracy: 0.9643 - precision: 0.9817 - recall: 0.9701 - val_loss: 0.0897 - val_accuracy: 1.0000 - val_precision: 1.0000 - val_recall: 1.0000\n",
      "Epoch 5/10\n",
      "174/174 [==============================] - 3s 18ms/step - loss: 0.0744 - accuracy: 0.9718 - precision: 0.9849 - recall: 0.9770 - val_loss: 0.1584 - val_accuracy: 0.8750 - val_precision: 0.8000 - val_recall: 1.0000\n",
      "Epoch 6/10\n",
      "174/174 [==============================] - 3s 18ms/step - loss: 0.0542 - accuracy: 0.9795 - precision: 0.9911 - recall: 0.9812 - val_loss: 0.1866 - val_accuracy: 0.8750 - val_precision: 0.8000 - val_recall: 1.0000\n",
      "Epoch 7/10\n",
      "174/174 [==============================] - 3s 16ms/step - loss: 0.0559 - accuracy: 0.9783 - precision: 0.9901 - recall: 0.9806 - val_loss: 0.2914 - val_accuracy: 0.8125 - val_precision: 0.7273 - val_recall: 1.0000\n",
      "Epoch 8/10\n",
      "174/174 [==============================] - 3s 20ms/step - loss: 0.0453 - accuracy: 0.9829 - precision: 0.9922 - recall: 0.9848 - val_loss: 0.5054 - val_accuracy: 0.8125 - val_precision: 0.7273 - val_recall: 1.0000\n",
      "Epoch 9/10\n",
      "174/174 [==============================] - 4s 20ms/step - loss: 0.0423 - accuracy: 0.9837 - precision: 0.9922 - recall: 0.9858 - val_loss: 0.2063 - val_accuracy: 0.8750 - val_precision: 0.8000 - val_recall: 1.0000\n",
      "Epoch 10/10\n",
      "174/174 [==============================] - 3s 20ms/step - loss: 0.0305 - accuracy: 0.9862 - precision: 0.9943 - recall: 0.9871 - val_loss: 0.4662 - val_accuracy: 0.8750 - val_precision: 0.8000 - val_recall: 1.0000\n"
     ]
    }
   ],
   "source": [
    "# fit model\n",
    "history = model.fit(train_data,\n",
    "               train_labels,\n",
    "               batch_size=30,\n",
    "               epochs=10,\n",
    "               validation_data=(val_data, val_labels))"
   ]
  },
  {
   "cell_type": "code",
   "execution_count": 10,
   "metadata": {},
   "outputs": [
    {
     "data": {
      "image/png": "[encoded data removed]",
      "text/plain": [
       "<Figure size 432x288 with 1 Axes>"
      ]
     },
     "metadata": {
      "needs_background": "light"
     },
     "output_type": "display_data"
    }
   ],
   "source": [
    "# examine loss of model across epochs\n",
    "fig = plt.figure()\n",
    "plt.plot(history.history['loss'], color='teal', label='loss')\n",
    "plt.plot(history.history['val_loss'], color='orange', label='val_loss')\n",
    "fig.suptitle('Loss', fontsize=20)\n",
    "plt.legend(loc=\"upper left\")\n",
    "plt.show()"
   ]
  },
  {
   "cell_type": "code",
   "execution_count": 11,
   "metadata": {},
   "outputs": [
    {
     "data": {
      "image/png": "[encoded data removed]",
      "text/plain": [
       "<Figure size 432x288 with 1 Axes>"
      ]
     },
     "metadata": {
      "needs_background": "light"
     },
     "output_type": "display_data"
    }
   ],
   "source": [
    "# examine accuracy of model across epochs\n",
    "fig = plt.figure()\n",
    "plt.plot(history.history['accuracy'], color='teal', label='accuracy')\n",
    "plt.plot(history.history['val_accuracy'], color='orange', label='val_accuracy')\n",
    "fig.suptitle('Accuracy', fontsize=20)\n",
    "plt.legend(loc=\"upper left\")\n",
    "plt.show()"
   ]
  },
  {
   "cell_type": "code",
   "execution_count": 12,
   "metadata": {},
   "outputs": [
    {
     "name": "stdout",
     "output_type": "stream",
     "text": [
      "20/20 [==============================] - 0s 8ms/step - loss: 2.4789 - accuracy: 0.7372 - precision: 0.7055 - recall: 0.9949\n"
     ]
    }
   ],
   "source": [
    "results=model.evaluate(test_data, test_labels)"
   ]
  },
  {
   "cell_type": "code",
   "execution_count": 13,
   "metadata": {
    "scrolled": true
   },
   "outputs": [
    {
     "name": "stdout",
     "output_type": "stream",
     "text": [
      "Model loss:  2.478881359100342\n",
      "Model accuracy: 0.7371794581413269\n",
      "Model precision: 0.7054545283317566\n",
      "Model recall: 0.9948717951774597\n"
     ]
    }
   ],
   "source": [
    "print(f\"Model loss:  {results[0]}\")\n",
    "print(f\"Model accuracy: {results[1]}\")\n",
    "print(f\"Model precision: {results[2]}\")\n",
    "print(f\"Model recall: {results[3]}\")"
   ]
  },
  {
   "cell_type": "markdown",
   "metadata": {},
   "source": [
    "### Model 6 summary\n",
    "Performance metrics for model 6 are comprable to the original model. Applying dropout to the dense hidden layer appears to have not made a difference."
   ]
  },
  {
   "cell_type": "markdown",
   "metadata": {},
   "source": [
    "Compared to our dummy model, we have increased performance across all metrics(Recall is the same):\n",
    "<br> ----------------Precision-----Accuracy-----Recall\n",
    "<br> DUMMY------0.63----------0.63---------1\n",
    "<br> FSM,3,4,5,6----0.71----------0.74---------0.98\n",
    "<br> MODEL2-----0.63----------0.63---------1"
   ]
  }
 ],
 "metadata": {
  "kernelspec": {
   "display_name": "Python (learn-env)",
   "language": "python",
   "name": "learn-env"
  },
  "language_info": {
   "codemirror_mode": {
    "name": "ipython",
    "version": 3
   },
   "file_extension": ".py",
   "mimetype": "text/x-python",
   "name": "python",
   "nbconvert_exporter": "python",
   "pygments_lexer": "ipython3",
   "version": "3.8.5"
  }
 },
 "nbformat": 4,
 "nbformat_minor": 4
}
