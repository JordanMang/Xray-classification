{
 "cells": [
  {
   "cell_type": "code",
   "execution_count": 1,
   "metadata": {},
   "outputs": [],
   "source": [
    "import numpy as np\n",
    "from matplotlib import pyplot as plt\n",
    "from sklearn.metrics import classification_report,confusion_matrix\n",
    "from sklearn import metrics\n",
    "\n",
    "import tensorflow as tf\n",
    "from tensorflow.keras import datasets, layers, models, Sequential\n",
    "from tensorflow.keras import models, layers, optimizers, regularizers\n",
    "# from tensorflow.keras.models import Sequential\n",
    "from tensorflow.keras.metrics import Precision, Recall, BinaryAccuracy\n",
    "\n",
    "from tensorflow.keras.layers import Conv2D, MaxPooling2D, Dense, Flatten, Dropout\n",
    "from keras.preprocessing.image import ImageDataGenerator\n",
    "\n",
    "import cv2\n",
    "\n",
    "import os"
   ]
  },
  {
   "cell_type": "code",
   "execution_count": 2,
   "metadata": {
    "scrolled": true
   },
   "outputs": [],
   "source": [
    "# Get photos for model training\n",
    "# train = tf.keras.utils.image_dataset_from_directory('./data/archive/chest_xray/chest_xray/train')\n",
    "# test = tf.keras.utils.image_dataset_from_directory('./data/archive/chest_xray/chest_xray/test')\n",
    "# val = tf.keras.utils.image_dataset_from_directory('./data/archive/chest_xray/chest_xray/val')"
   ]
  },
  {
   "cell_type": "code",
   "execution_count": 3,
   "metadata": {},
   "outputs": [],
   "source": [
    "def Get_Photo_Data(location, num_photos):\n",
    "    '''\n",
    "    Returns photos from data folder(resized, grayscaled) and binary class.\n",
    "    \n",
    "    '''\n",
    "    datagen = ImageDataGenerator(rescale=1./255)\n",
    "    \n",
    "    data = datagen.flow_from_directory(\n",
    "        location,\n",
    "        target_size=(150, 150),\n",
    "        batch_size=num_photos,\n",
    "        color_mode='grayscale',\n",
    "        class_mode='binary'\n",
    "    )\n",
    "    \n",
    "    return data"
   ]
  },
  {
   "cell_type": "code",
   "execution_count": 4,
   "metadata": {},
   "outputs": [
    {
     "name": "stdout",
     "output_type": "stream",
     "text": [
      "Found 5216 images belonging to 2 classes.\n",
      "Found 624 images belonging to 2 classes.\n",
      "Found 16 images belonging to 2 classes.\n"
     ]
    }
   ],
   "source": [
    "#getting images and labels for models\n",
    "train_photos = Get_Photo_Data('./data/archive/chest_xray/train/', 5216)\n",
    "test_photos = Get_Photo_Data('./data/archive/chest_xray/test/', 624)\n",
    "val_photos = Get_Photo_Data('./data/archive/chest_xray/val/', 16)"
   ]
  },
  {
   "cell_type": "code",
   "execution_count": 5,
   "metadata": {},
   "outputs": [],
   "source": [
    "# unpack images and labels for CM/dummy model\n",
    "train_data, train_labels = next (train_photos)\n",
    "test_data, test_labels = next (test_photos)\n",
    "val_data, val_labels = next (val_photos)"
   ]
  },
  {
   "cell_type": "code",
   "execution_count": 15,
   "metadata": {},
   "outputs": [
    {
     "data": {
      "text/plain": [
       "16"
      ]
     },
     "execution_count": 15,
     "metadata": {},
     "output_type": "execute_result"
    }
   ],
   "source": [
    "len(val_data)"
   ]
  },
  {
   "cell_type": "markdown",
   "metadata": {},
   "source": [
    "# Model 5\n",
    "For this model we made the following changes:\n",
    "1. Add 2nd convolutional layer\n"
   ]
  },
  {
   "cell_type": "code",
   "execution_count": 6,
   "metadata": {},
   "outputs": [],
   "source": [
    "model = Sequential()"
   ]
  },
  {
   "cell_type": "code",
   "execution_count": 7,
   "metadata": {},
   "outputs": [],
   "source": [
    "# Add layers to model\n",
    "# input layer\n",
    "\n",
    "model.add(Conv2D(64, (3,3), 1, activation='relu', padding = 'same', input_shape=(150,150,1)))\n",
    "\n",
    "# add pooling layer(takes max from input window)\n",
    "model.add(layers.MaxPooling2D((2,2)))\n",
    "\n",
    "model.add(Conv2D(32, (3,3), 1, activation='relu', padding = 'same'))\n",
    "\n",
    "# add pooling layer(takes max from input window)\n",
    "model.add(layers.MaxPooling2D((2,2)))\n",
    "\n",
    "# flattens 2d to 1d\n",
    "model.add(layers.Flatten())\n",
    "\n",
    "# add dense layer\n",
    "model.add(layers.Dense(16, activation='relu'))\n",
    "\n",
    "# add output layer\n",
    "model.add(layers.Dense(1, activation='sigmoid'))"
   ]
  },
  {
   "cell_type": "code",
   "execution_count": 8,
   "metadata": {},
   "outputs": [],
   "source": [
    "# compile model with adam for binary model\n",
    "model.compile('adam', loss=tf.losses.BinaryCrossentropy(), metrics=['accuracy',\n",
    "                                                                    Precision(name='precision'),\n",
    "                                                                    Recall(name='recall')])"
   ]
  },
  {
   "cell_type": "code",
   "execution_count": 9,
   "metadata": {},
   "outputs": [
    {
     "name": "stdout",
     "output_type": "stream",
     "text": [
      "Epoch 1/10\n",
      "174/174 [==============================] - 7s 16ms/step - loss: 0.3294 - accuracy: 0.8737 - precision: 0.8655 - recall: 0.9827 - val_loss: 0.4227 - val_accuracy: 0.8750 - val_precision: 0.8000 - val_recall: 1.0000\n",
      "Epoch 2/10\n",
      "174/174 [==============================] - 2s 13ms/step - loss: 0.2182 - accuracy: 0.9502 - precision: 0.9502 - recall: 0.9845 - val_loss: 0.3472 - val_accuracy: 0.9375 - val_precision: 0.8889 - val_recall: 1.0000\n",
      "Epoch 3/10\n",
      "174/174 [==============================] - 2s 12ms/step - loss: 0.1916 - accuracy: 0.9628 - precision: 0.9711 - recall: 0.9791 - val_loss: 0.2988 - val_accuracy: 0.9375 - val_precision: 0.8889 - val_recall: 1.0000\n",
      "Epoch 4/10\n",
      "174/174 [==============================] - 2s 12ms/step - loss: 0.1680 - accuracy: 0.9707 - precision: 0.9787 - recall: 0.9819 - val_loss: 0.5054 - val_accuracy: 0.8750 - val_precision: 0.8000 - val_recall: 1.0000\n",
      "Epoch 5/10\n",
      "174/174 [==============================] - 2s 13ms/step - loss: 0.1531 - accuracy: 0.9697 - precision: 0.9791 - recall: 0.9801 - val_loss: 0.2698 - val_accuracy: 0.9375 - val_precision: 0.8889 - val_recall: 1.0000\n",
      "Epoch 6/10\n",
      "174/174 [==============================] - 6s 35ms/step - loss: 0.1377 - accuracy: 0.9755 - precision: 0.9837 - recall: 0.9832 - val_loss: 0.4213 - val_accuracy: 0.8750 - val_precision: 0.8000 - val_recall: 1.0000\n",
      "Epoch 7/10\n",
      "174/174 [==============================] - 4s 21ms/step - loss: 0.1240 - accuracy: 0.9803 - precision: 0.9881 - recall: 0.9853 - val_loss: 0.2604 - val_accuracy: 0.8750 - val_precision: 0.8000 - val_recall: 1.0000\n",
      "Epoch 8/10\n",
      "174/174 [==============================] - 3s 15ms/step - loss: 0.1064 - accuracy: 0.9850 - precision: 0.9922 - recall: 0.9876 - val_loss: 0.1805 - val_accuracy: 0.9375 - val_precision: 0.8889 - val_recall: 1.0000\n",
      "Epoch 9/10\n",
      "174/174 [==============================] - 4s 21ms/step - loss: 0.1108 - accuracy: 0.9774 - precision: 0.9848 - recall: 0.9848 - val_loss: 0.1431 - val_accuracy: 1.0000 - val_precision: 1.0000 - val_recall: 1.0000\n",
      "Epoch 10/10\n",
      "174/174 [==============================] - 2s 13ms/step - loss: 0.0874 - accuracy: 0.9879 - precision: 0.9943 - recall: 0.9894 - val_loss: 0.1451 - val_accuracy: 1.0000 - val_precision: 1.0000 - val_recall: 1.0000\n"
     ]
    }
   ],
   "source": [
    "# fit model\n",
    "history = model.fit(train_data,\n",
    "               train_labels,\n",
    "               batch_size=30,\n",
    "               epochs=10,\n",
    "               validation_data=(val_data, val_labels))"
   ]
  },
  {
   "cell_type": "code",
   "execution_count": 10,
   "metadata": {},
   "outputs": [
    {
     "data": {
      "image/png": "[encoded data removed]",
      "text/plain": [
       "<Figure size 432x288 with 1 Axes>"
      ]
     },
     "metadata": {
      "needs_background": "light"
     },
     "output_type": "display_data"
    }
   ],
   "source": [
    "# examine loss of model across epochs\n",
    "fig = plt.figure()\n",
    "plt.plot(history.history['loss'], color='teal', label='loss')\n",
    "plt.plot(history.history['val_loss'], color='orange', label='val_loss')\n",
    "fig.suptitle('Loss', fontsize=20)\n",
    "plt.legend(loc=\"upper left\")\n",
    "plt.show()"
   ]
  },
  {
   "cell_type": "code",
   "execution_count": 11,
   "metadata": {},
   "outputs": [
    {
     "data": {
      "image/png": "[encoded data removed]",
      "text/plain": [
       "<Figure size 432x288 with 1 Axes>"
      ]
     },
     "metadata": {
      "needs_background": "light"
     },
     "output_type": "display_data"
    }
   ],
   "source": [
    "# examine accuracy of model across epochs\n",
    "fig = plt.figure()\n",
    "plt.plot(history.history['accuracy'], color='teal', label='accuracy')\n",
    "plt.plot(history.history['val_accuracy'], color='orange', label='val_accuracy')\n",
    "fig.suptitle('Accuracy', fontsize=20)\n",
    "plt.legend(loc=\"upper left\")\n",
    "plt.show()"
   ]
  },
  {
   "cell_type": "code",
   "execution_count": 12,
   "metadata": {},
   "outputs": [
    {
     "name": "stdout",
     "output_type": "stream",
     "text": [
      "20/20 [==============================] - 0s 7ms/step - loss: 1.7003 - accuracy: 0.7484 - precision: 0.7145 - recall: 0.9949\n"
     ]
    }
   ],
   "source": [
    "results=model.evaluate(test_data, test_labels)"
   ]
  },
  {
   "cell_type": "code",
   "execution_count": 13,
   "metadata": {
    "scrolled": true
   },
   "outputs": [
    {
     "name": "stdout",
     "output_type": "stream",
     "text": [
      "Model loss:  1.700339674949646\n",
      "Model accuracy: 0.7483974099159241\n",
      "Model precision: 0.7145488262176514\n",
      "Model recall: 0.9948717951774597\n"
     ]
    }
   ],
   "source": [
    "print(f\"Model loss:  {results[0]}\")\n",
    "print(f\"Model accuracy: {results[1]}\")\n",
    "print(f\"Model precision: {results[2]}\")\n",
    "print(f\"Model recall: {results[3]}\")"
   ]
  },
  {
   "cell_type": "markdown",
   "metadata": {},
   "source": [
    "### Model 5 summary\n",
    "Performance metrics for model 5 are comprable to the original model. This means that we can keep the original epoch and batch size numbers.\n",
    "<br> We may be overfitting. In the next model we'll try for a more generalized model by adding dropout."
   ]
  },
  {
   "cell_type": "markdown",
   "metadata": {},
   "source": [
    "Compared to our dummy model, we have increased performance across all metrics(Recall is the same):\n",
    "<br> ----------------Precision-----Accuracy-----Recall\n",
    "<br> DUMMY------0.63----------0.63---------1\n",
    "<br> FSM,3,4,5----0.71----------0.74---------0.98\n",
    "<br> MODEL2-----0.63----------0.63---------1"
   ]
  }
 ],
 "metadata": {
  "kernelspec": {
   "display_name": "Python (learn-env)",
   "language": "python",
   "name": "learn-env"
  },
  "language_info": {
   "codemirror_mode": {
    "name": "ipython",
    "version": 3
   },
   "file_extension": ".py",
   "mimetype": "text/x-python",
   "name": "python",
   "nbconvert_exporter": "python",
   "pygments_lexer": "ipython3",
   "version": "3.8.5"
  }
 },
 "nbformat": 4,
 "nbformat_minor": 4
}
