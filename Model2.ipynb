{
 "cells": [
  {
   "cell_type": "code",
   "execution_count": 1,
   "metadata": {},
   "outputs": [],
   "source": [
    "import numpy as np\n",
    "from matplotlib import pyplot as plt\n",
    "from sklearn.metrics import classification_report,confusion_matrix\n",
    "\n",
    "import tensorflow as tf\n",
    "from tensorflow.keras import datasets, layers, models, Sequential\n",
    "from tensorflow.keras import models, layers, optimizers, regularizers\n",
    "# from tensorflow.keras.models import Sequential\n",
    "from tensorflow.keras.metrics import Precision, Recall, BinaryAccuracy\n",
    "\n",
    "from tensorflow.keras.layers import Conv2D, MaxPooling2D, Dense, Flatten, Dropout\n",
    "\n",
    "import cv2\n",
    "\n",
    "import os"
   ]
  },
  {
   "cell_type": "code",
   "execution_count": 2,
   "metadata": {
    "scrolled": true
   },
   "outputs": [
    {
     "name": "stdout",
     "output_type": "stream",
     "text": [
      "Found 5216 files belonging to 2 classes.\n",
      "Found 624 files belonging to 2 classes.\n",
      "Found 16 files belonging to 2 classes.\n"
     ]
    }
   ],
   "source": [
    "# Get photos for model training\n",
    "train = tf.keras.utils.image_dataset_from_directory('./data/archive/chest_xray/chest_xray/train')\n",
    "test = tf.keras.utils.image_dataset_from_directory('./data/archive/chest_xray/chest_xray/test')\n",
    "val = tf.keras.utils.image_dataset_from_directory('./data/archive/chest_xray/chest_xray/val')"
   ]
  },
  {
   "cell_type": "markdown",
   "metadata": {},
   "source": [
    "# Model 2\n",
    "For this model we made the following changes:\n",
    "1. Nodes in initial layer increased to 32\n"
   ]
  },
  {
   "cell_type": "code",
   "execution_count": 19,
   "metadata": {},
   "outputs": [],
   "source": [
    "model = Sequential()"
   ]
  },
  {
   "cell_type": "code",
   "execution_count": 8,
   "metadata": {},
   "outputs": [],
   "source": [
    "# Add layers to model\n",
    "# input layer\n",
    "\n",
    "model.add(Conv2D(32, (3,3), 1, activation='relu', padding = 'same', input_shape=(256,256,3)))\n",
    "\n",
    "# add pooling layer(takes max from input window)\n",
    "model.add(layers.MaxPooling2D((2,2)))\n",
    "\n",
    "# flattens 2d to 1d\n",
    "model.add(layers.Flatten())\n",
    "\n",
    "# add dense layer\n",
    "model.add(layers.Dense(16, activation='relu'))\n",
    "\n",
    "# add output layer\n",
    "model.add(layers.Dense(1, activation='sigmoid'))"
   ]
  },
  {
   "cell_type": "code",
   "execution_count": 9,
   "metadata": {},
   "outputs": [],
   "source": [
    "# compile model with adam for binary model\n",
    "model.compile('adam', loss=tf.losses.BinaryCrossentropy(), metrics=['accuracy'])"
   ]
  },
  {
   "cell_type": "code",
   "execution_count": 10,
   "metadata": {},
   "outputs": [
    {
     "name": "stdout",
     "output_type": "stream",
     "text": [
      "Epoch 1/10\n",
      "163/163 [==============================] - 13s 69ms/step - loss: 75.3374 - accuracy: 0.8332 - val_loss: 0.6633 - val_accuracy: 0.6250\n",
      "Epoch 2/10\n",
      "163/163 [==============================] - 11s 67ms/step - loss: 0.3056 - accuracy: 0.8666 - val_loss: 0.5441 - val_accuracy: 0.6875\n",
      "Epoch 3/10\n",
      "163/163 [==============================] - 11s 66ms/step - loss: 0.2119 - accuracy: 0.9551 - val_loss: 0.2968 - val_accuracy: 1.0000\n",
      "Epoch 4/10\n",
      "163/163 [==============================] - 12s 68ms/step - loss: 0.1990 - accuracy: 0.9571 - val_loss: 0.4861 - val_accuracy: 0.8125\n",
      "Epoch 5/10\n",
      "163/163 [==============================] - 12s 70ms/step - loss: 6.2360 - accuracy: 0.6794 - val_loss: 0.7038 - val_accuracy: 0.5000\n",
      "Epoch 6/10\n",
      "163/163 [==============================] - 12s 67ms/step - loss: 0.7359 - accuracy: 0.2571 - val_loss: 0.6934 - val_accuracy: 0.5000\n",
      "Epoch 7/10\n",
      "163/163 [==============================] - 11s 66ms/step - loss: 0.6816 - accuracy: 0.6367 - val_loss: 0.6955 - val_accuracy: 0.5000\n",
      "Epoch 8/10\n",
      "163/163 [==============================] - 11s 66ms/step - loss: 0.6472 - accuracy: 0.7429 - val_loss: 0.7033 - val_accuracy: 0.5000\n",
      "Epoch 9/10\n",
      "163/163 [==============================] - 11s 66ms/step - loss: 0.6237 - accuracy: 0.7429 - val_loss: 0.7139 - val_accuracy: 0.5000\n",
      "Epoch 10/10\n",
      "163/163 [==============================] - 11s 67ms/step - loss: 0.6073 - accuracy: 0.7429 - val_loss: 0.7261 - val_accuracy: 0.5000\n"
     ]
    }
   ],
   "source": [
    "# fit model\n",
    "history = model.fit(train,\n",
    "               batch_size=30,\n",
    "               epochs=10,\n",
    "               validation_data=(val))"
   ]
  },
  {
   "cell_type": "code",
   "execution_count": 11,
   "metadata": {},
   "outputs": [
    {
     "data": {
      "image/png": "[encoded data removed]",
      "text/plain": [
       "<Figure size 432x288 with 1 Axes>"
      ]
     },
     "metadata": {
      "needs_background": "light"
     },
     "output_type": "display_data"
    }
   ],
   "source": [
    "# examine loss of model across epochs\n",
    "fig = plt.figure()\n",
    "plt.plot(history.history['loss'], color='teal', label='loss')\n",
    "plt.plot(history.history['val_loss'], color='orange', label='val_loss')\n",
    "fig.suptitle('Loss', fontsize=20)\n",
    "plt.legend(loc=\"upper left\")\n",
    "plt.show()"
   ]
  },
  {
   "cell_type": "code",
   "execution_count": 12,
   "metadata": {},
   "outputs": [
    {
     "data": {
      "image/png": "[encoded data removed]",
      "text/plain": [
       "<Figure size 432x288 with 1 Axes>"
      ]
     },
     "metadata": {
      "needs_background": "light"
     },
     "output_type": "display_data"
    }
   ],
   "source": [
    "# examine accuracy of model across epochs\n",
    "fig = plt.figure()\n",
    "plt.plot(history.history['accuracy'], color='teal', label='accuracy')\n",
    "plt.plot(history.history['val_accuracy'], color='orange', label='val_accuracy')\n",
    "fig.suptitle('Accuracy', fontsize=20)\n",
    "plt.legend(loc=\"upper left\")\n",
    "plt.show()"
   ]
  },
  {
   "cell_type": "code",
   "execution_count": 13,
   "metadata": {},
   "outputs": [],
   "source": [
    "pre = Precision()\n",
    "re = Recall()\n",
    "acc = BinaryAccuracy()"
   ]
  },
  {
   "cell_type": "code",
   "execution_count": 14,
   "metadata": {},
   "outputs": [
    {
     "name": "stdout",
     "output_type": "stream",
     "text": [
      "1/1 [==============================] - 0s 159ms/step\n",
      "1/1 [==============================] - 0s 75ms/step\n",
      "1/1 [==============================] - 0s 53ms/step\n",
      "1/1 [==============================] - 0s 40ms/step\n",
      "1/1 [==============================] - 0s 29ms/step\n",
      "1/1 [==============================] - 0s 36ms/step\n",
      "1/1 [==============================] - 0s 30ms/step\n",
      "1/1 [==============================] - 0s 30ms/step\n",
      "1/1 [==============================] - 0s 30ms/step\n",
      "1/1 [==============================] - 0s 32ms/step\n",
      "1/1 [==============================] - 0s 31ms/step\n",
      "1/1 [==============================] - 0s 33ms/step\n",
      "1/1 [==============================] - 0s 28ms/step\n",
      "1/1 [==============================] - 0s 28ms/step\n",
      "1/1 [==============================] - 0s 29ms/step\n",
      "1/1 [==============================] - 0s 34ms/step\n",
      "1/1 [==============================] - 0s 33ms/step\n",
      "1/1 [==============================] - 0s 29ms/step\n",
      "1/1 [==============================] - 0s 27ms/step\n",
      "1/1 [==============================] - 0s 78ms/step\n"
     ]
    }
   ],
   "source": [
    "# Get precision, recall, and accuracy for test batch set\n",
    "for batch in test.as_numpy_iterator(): \n",
    "    X, y = batch\n",
    "    yhat = model.predict(X)\n",
    "    pre.update_state(y, yhat)\n",
    "    re.update_state(y, yhat)\n",
    "    acc.update_state(y, yhat)"
   ]
  },
  {
   "cell_type": "code",
   "execution_count": 15,
   "metadata": {
    "scrolled": true
   },
   "outputs": [
    {
     "name": "stdout",
     "output_type": "stream",
     "text": [
      "Precision: 0.625, Recall: 1.0, Accuracy: 0.625\n"
     ]
    }
   ],
   "source": [
    "print(f'Precision: {pre.result()}, Recall: {re.result()}, Accuracy: {acc.result()}')"
   ]
  },
  {
   "cell_type": "markdown",
   "metadata": {},
   "source": [
    "### Model 2 summary\n",
    "Performance metrics for the second model are identical to the dummy model."
   ]
  },
  {
   "cell_type": "markdown",
   "metadata": {},
   "source": [
    "Compared to our dummy model, we have increased performance across all metrics(Recall is the same):\n",
    "<br> ----------------Precision-----Accuracy-----Recall\n",
    "<br> DUMMY------0.63----------0.63---------1\n",
    "<br> FSM--------0.71----------0.74---------0.98\n",
    "<br> MODEL2-----0.63----------0.63---------1"
   ]
  }
 ],
 "metadata": {
  "kernelspec": {
   "display_name": "Python (learn-env)",
   "language": "python",
   "name": "learn-env"
  },
  "language_info": {
   "codemirror_mode": {
    "name": "ipython",
    "version": 3
   },
   "file_extension": ".py",
   "mimetype": "text/x-python",
   "name": "python",
   "nbconvert_exporter": "python",
   "pygments_lexer": "ipython3",
   "version": "3.8.5"
  }
 },
 "nbformat": 4,
 "nbformat_minor": 4
}
