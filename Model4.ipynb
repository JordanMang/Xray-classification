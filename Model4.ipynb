{
 "cells": [
  {
   "cell_type": "code",
   "execution_count": 1,
   "metadata": {},
   "outputs": [],
   "source": [
    "import numpy as np\n",
    "from matplotlib import pyplot as plt\n",
    "from sklearn.metrics import classification_report,confusion_matrix\n",
    "from sklearn import metrics\n",
    "\n",
    "import tensorflow as tf\n",
    "from tensorflow.keras import datasets, layers, models, Sequential\n",
    "from tensorflow.keras import models, layers, optimizers, regularizers\n",
    "# from tensorflow.keras.models import Sequential\n",
    "from tensorflow.keras.metrics import Precision, Recall, BinaryAccuracy\n",
    "\n",
    "from tensorflow.keras.layers import Conv2D, MaxPooling2D, Dense, Flatten, Dropout\n",
    "from keras.preprocessing.image import ImageDataGenerator\n",
    "\n",
    "import cv2\n",
    "\n",
    "import os"
   ]
  },
  {
   "cell_type": "code",
   "execution_count": 2,
   "metadata": {
    "scrolled": true
   },
   "outputs": [],
   "source": [
    "# Get photos for model training\n",
    "# train = tf.keras.utils.image_dataset_from_directory('./data/archive/chest_xray/chest_xray/train')\n",
    "# test = tf.keras.utils.image_dataset_from_directory('./data/archive/chest_xray/chest_xray/test')\n",
    "# val = tf.keras.utils.image_dataset_from_directory('./data/archive/chest_xray/chest_xray/val')"
   ]
  },
  {
   "cell_type": "code",
   "execution_count": 3,
   "metadata": {},
   "outputs": [],
   "source": [
    "def Get_Photo_Data(location, num_photos):\n",
    "    '''\n",
    "    Returns photos from data folder(resized, grayscaled) and binary class.\n",
    "    \n",
    "    '''\n",
    "    datagen = ImageDataGenerator(rescale=1./255)\n",
    "    \n",
    "    data = datagen.flow_from_directory(\n",
    "        location,\n",
    "        target_size=(150, 150),\n",
    "        batch_size=num_photos,\n",
    "        color_mode='grayscale',\n",
    "        class_mode='binary'\n",
    "    )\n",
    "    \n",
    "    return data"
   ]
  },
  {
   "cell_type": "code",
   "execution_count": 4,
   "metadata": {},
   "outputs": [
    {
     "name": "stdout",
     "output_type": "stream",
     "text": [
      "Found 5216 images belonging to 2 classes.\n",
      "Found 624 images belonging to 2 classes.\n",
      "Found 16 images belonging to 2 classes.\n"
     ]
    }
   ],
   "source": [
    "#getting images and labels for models\n",
    "train_photos = Get_Photo_Data('./data/archive/chest_xray/train/', 5216)\n",
    "test_photos = Get_Photo_Data('./data/archive/chest_xray/test/', 624)\n",
    "val_photos = Get_Photo_Data('./data/archive/chest_xray/val/', 16)"
   ]
  },
  {
   "cell_type": "code",
   "execution_count": 5,
   "metadata": {},
   "outputs": [],
   "source": [
    "# unpack images and labels for CM/dummy model\n",
    "train_data, train_labels = next (train_photos)\n",
    "test_data, test_labels = next (test_photos)\n",
    "val_data, val_labels = next (val_photos)"
   ]
  },
  {
   "cell_type": "markdown",
   "metadata": {},
   "source": [
    "# Model 4\n",
    "For this model we made the following changes:\n",
    "1. Decreased batch size by half(30 to 15)\n",
    "2. Increased epochs(10 to 20)\n"
   ]
  },
  {
   "cell_type": "code",
   "execution_count": 6,
   "metadata": {},
   "outputs": [],
   "source": [
    "model = Sequential()"
   ]
  },
  {
   "cell_type": "code",
   "execution_count": 7,
   "metadata": {},
   "outputs": [],
   "source": [
    "# Add layers to model\n",
    "# input layer\n",
    "\n",
    "model.add(Conv2D(64, (3,3), 1, activation='relu', padding = 'same', input_shape=(150,150,1)))\n",
    "\n",
    "# add pooling layer(takes max from input window)\n",
    "model.add(layers.MaxPooling2D((2,2)))\n",
    "\n",
    "# flattens 2d to 1d\n",
    "model.add(layers.Flatten())\n",
    "\n",
    "# add dense layer\n",
    "model.add(layers.Dense(16, activation='relu'))\n",
    "\n",
    "# add output layer\n",
    "model.add(layers.Dense(1, activation='sigmoid'))"
   ]
  },
  {
   "cell_type": "code",
   "execution_count": 8,
   "metadata": {},
   "outputs": [],
   "source": [
    "# compile model with adam for binary model\n",
    "model.compile('adam', loss=tf.losses.BinaryCrossentropy(), metrics=['accuracy',\n",
    "                                                                    Precision(name='precision'),\n",
    "                                                                    Recall(name='recall')])"
   ]
  },
  {
   "cell_type": "code",
   "execution_count": 9,
   "metadata": {},
   "outputs": [
    {
     "name": "stdout",
     "output_type": "stream",
     "text": [
      "Epoch 1/20\n",
      "348/348 [==============================] - 7s 9ms/step - loss: 0.3281 - accuracy: 0.8800 - precision: 0.8768 - recall: 0.9755 - val_loss: 0.8206 - val_accuracy: 0.5625 - val_precision: 0.5333 - val_recall: 1.0000\n",
      "Epoch 2/20\n",
      "348/348 [==============================] - 3s 7ms/step - loss: 0.2082 - accuracy: 0.9551 - precision: 0.9622 - recall: 0.9781 - val_loss: 0.4014 - val_accuracy: 0.9375 - val_precision: 0.8889 - val_recall: 1.0000\n",
      "Epoch 3/20\n",
      "348/348 [==============================] - 3s 7ms/step - loss: 0.1679 - accuracy: 0.9697 - precision: 0.9772 - recall: 0.9822 - val_loss: 0.3439 - val_accuracy: 0.9375 - val_precision: 0.8889 - val_recall: 1.0000\n",
      "Epoch 4/20\n",
      "348/348 [==============================] - 3s 8ms/step - loss: 0.1342 - accuracy: 0.9780 - precision: 0.9843 - recall: 0.9861 - val_loss: 0.2220 - val_accuracy: 1.0000 - val_precision: 1.0000 - val_recall: 1.0000\n",
      "Epoch 5/20\n",
      "348/348 [==============================] - 2s 7ms/step - loss: 0.1150 - accuracy: 0.9791 - precision: 0.9838 - recall: 0.9881 - val_loss: 0.3290 - val_accuracy: 0.9375 - val_precision: 0.8889 - val_recall: 1.0000\n",
      "Epoch 6/20\n",
      "348/348 [==============================] - 2s 7ms/step - loss: 0.0963 - accuracy: 0.9831 - precision: 0.9886 - recall: 0.9886 - val_loss: 0.1535 - val_accuracy: 1.0000 - val_precision: 1.0000 - val_recall: 1.0000\n",
      "Epoch 7/20\n",
      "348/348 [==============================] - 2s 7ms/step - loss: 0.0584 - accuracy: 0.9862 - precision: 0.9917 - recall: 0.9897 - val_loss: 0.1347 - val_accuracy: 0.9375 - val_precision: 0.8889 - val_recall: 1.0000\n",
      "Epoch 8/20\n",
      "348/348 [==============================] - 2s 7ms/step - loss: 0.0278 - accuracy: 0.9908 - precision: 0.9946 - recall: 0.9930 - val_loss: 0.0980 - val_accuracy: 0.9375 - val_precision: 0.8889 - val_recall: 1.0000\n",
      "Epoch 9/20\n",
      "348/348 [==============================] - 2s 7ms/step - loss: 0.0184 - accuracy: 0.9954 - precision: 0.9972 - recall: 0.9966 - val_loss: 0.1076 - val_accuracy: 0.9375 - val_precision: 0.8889 - val_recall: 1.0000\n",
      "Epoch 10/20\n",
      "348/348 [==============================] - 2s 7ms/step - loss: 0.0189 - accuracy: 0.9950 - precision: 0.9969 - recall: 0.9964 - val_loss: 0.1832 - val_accuracy: 0.9375 - val_precision: 0.8889 - val_recall: 1.0000\n",
      "Epoch 11/20\n",
      "348/348 [==============================] - 2s 7ms/step - loss: 0.0079 - accuracy: 0.9988 - precision: 0.9997 - recall: 0.9987 - val_loss: 0.0485 - val_accuracy: 1.0000 - val_precision: 1.0000 - val_recall: 1.0000\n",
      "Epoch 12/20\n",
      "348/348 [==============================] - 2s 7ms/step - loss: 0.0048 - accuracy: 0.9988 - precision: 0.9992 - recall: 0.9992 - val_loss: 0.0327 - val_accuracy: 1.0000 - val_precision: 1.0000 - val_recall: 1.0000\n",
      "Epoch 13/20\n",
      "348/348 [==============================] - 2s 7ms/step - loss: 0.0060 - accuracy: 0.9985 - precision: 0.9990 - recall: 0.9990 - val_loss: 0.1515 - val_accuracy: 0.9375 - val_precision: 0.8889 - val_recall: 1.0000\n",
      "Epoch 14/20\n",
      "348/348 [==============================] - 2s 7ms/step - loss: 0.0075 - accuracy: 0.9971 - precision: 0.9977 - recall: 0.9985 - val_loss: 0.0018 - val_accuracy: 1.0000 - val_precision: 1.0000 - val_recall: 1.0000\n",
      "Epoch 15/20\n",
      "348/348 [==============================] - 2s 7ms/step - loss: 0.0026 - accuracy: 0.9996 - precision: 1.0000 - recall: 0.9995 - val_loss: 0.0945 - val_accuracy: 0.9375 - val_precision: 0.8889 - val_recall: 1.0000\n",
      "Epoch 16/20\n",
      "348/348 [==============================] - 2s 7ms/step - loss: 5.5039e-04 - accuracy: 1.0000 - precision: 1.0000 - recall: 1.0000 - val_loss: 0.1292 - val_accuracy: 0.9375 - val_precision: 0.8889 - val_recall: 1.0000\n",
      "Epoch 17/20\n",
      "348/348 [==============================] - 2s 7ms/step - loss: 3.0546e-04 - accuracy: 1.0000 - precision: 1.0000 - recall: 1.0000 - val_loss: 0.0643 - val_accuracy: 0.9375 - val_precision: 0.8889 - val_recall: 1.0000\n",
      "Epoch 18/20\n",
      "348/348 [==============================] - 2s 7ms/step - loss: 2.0315e-04 - accuracy: 1.0000 - precision: 1.0000 - recall: 1.0000 - val_loss: 0.0661 - val_accuracy: 0.9375 - val_precision: 0.8889 - val_recall: 1.0000\n",
      "Epoch 19/20\n",
      "348/348 [==============================] - 3s 7ms/step - loss: 1.4776e-04 - accuracy: 1.0000 - precision: 1.0000 - recall: 1.0000 - val_loss: 0.0664 - val_accuracy: 0.9375 - val_precision: 0.8889 - val_recall: 1.0000\n",
      "Epoch 20/20\n",
      "348/348 [==============================] - 3s 7ms/step - loss: 1.2043e-04 - accuracy: 1.0000 - precision: 1.0000 - recall: 1.0000 - val_loss: 0.0902 - val_accuracy: 0.9375 - val_precision: 0.8889 - val_recall: 1.0000\n"
     ]
    }
   ],
   "source": [
    "# fit model\n",
    "history = model.fit(train_data,\n",
    "               train_labels,\n",
    "               batch_size=15,\n",
    "               epochs=20,\n",
    "               validation_data=(val_data, val_labels))"
   ]
  },
  {
   "cell_type": "code",
   "execution_count": 10,
   "metadata": {},
   "outputs": [
    {
     "data": {
      "image/png": "[encoded data removed]",
      "text/plain": [
       "<Figure size 432x288 with 1 Axes>"
      ]
     },
     "metadata": {
      "needs_background": "light"
     },
     "output_type": "display_data"
    }
   ],
   "source": [
    "# examine loss of model across epochs\n",
    "fig = plt.figure()\n",
    "plt.plot(history.history['loss'], color='teal', label='loss')\n",
    "plt.plot(history.history['val_loss'], color='orange', label='val_loss')\n",
    "fig.suptitle('Loss', fontsize=20)\n",
    "plt.legend(loc=\"upper left\")\n",
    "plt.show()"
   ]
  },
  {
   "cell_type": "code",
   "execution_count": 11,
   "metadata": {},
   "outputs": [
    {
     "data": {
      "image/png": "[encoded data removed]",
      "text/plain": [
       "<Figure size 432x288 with 1 Axes>"
      ]
     },
     "metadata": {
      "needs_background": "light"
     },
     "output_type": "display_data"
    }
   ],
   "source": [
    "# examine accuracy of model across epochs\n",
    "fig = plt.figure()\n",
    "plt.plot(history.history['accuracy'], color='teal', label='accuracy')\n",
    "plt.plot(history.history['val_accuracy'], color='orange', label='val_accuracy')\n",
    "fig.suptitle('Accuracy', fontsize=20)\n",
    "plt.legend(loc=\"upper left\")\n",
    "plt.show()"
   ]
  },
  {
   "cell_type": "code",
   "execution_count": 13,
   "metadata": {},
   "outputs": [
    {
     "name": "stdout",
     "output_type": "stream",
     "text": [
      "20/20 [==============================] - 0s 6ms/step - loss: 2.8486 - accuracy: 0.7276 - precision: 0.6978 - recall: 0.9949\n"
     ]
    }
   ],
   "source": [
    "results=model.evaluate(test_data, test_labels)"
   ]
  },
  {
   "cell_type": "code",
   "execution_count": 14,
   "metadata": {
    "scrolled": true
   },
   "outputs": [
    {
     "name": "stdout",
     "output_type": "stream",
     "text": [
      "Model loss:  2.8486273288726807\n",
      "Model accuracy: 0.7275640964508057\n",
      "Model precision: 0.6978417038917542\n",
      "Model recall: 0.9948717951774597\n"
     ]
    }
   ],
   "source": [
    "print(f\"Model loss:  {results[0]}\")\n",
    "print(f\"Model accuracy: {results[1]}\")\n",
    "print(f\"Model precision: {results[2]}\")\n",
    "print(f\"Model recall: {results[3]}\")"
   ]
  },
  {
   "cell_type": "markdown",
   "metadata": {},
   "source": [
    "### Model 4 summary\n",
    "Performance metrics for model 4 are comprable to the original model. This means that we can keep the original epoch and batch size numbers.\n",
    "<br> We may be overfitting. In the next model we'll try for a more generalized model."
   ]
  },
  {
   "cell_type": "markdown",
   "metadata": {},
   "source": [
    "Compared to our dummy model, we have increased performance across all metrics(Recall is the same):\n",
    "<br> ----------------Precision-----Accuracy-----Recall\n",
    "<br> DUMMY------0.63----------0.63---------1\n",
    "<br> FSM,M3,M4----0.71----------0.74---------0.98\n",
    "<br> MODEL2-----0.63----------0.63---------1"
   ]
  }
 ],
 "metadata": {
  "kernelspec": {
   "display_name": "Python (learn-env)",
   "language": "python",
   "name": "learn-env"
  },
  "language_info": {
   "codemirror_mode": {
    "name": "ipython",
    "version": 3
   },
   "file_extension": ".py",
   "mimetype": "text/x-python",
   "name": "python",
   "nbconvert_exporter": "python",
   "pygments_lexer": "ipython3",
   "version": "3.8.5"
  }
 },
 "nbformat": 4,
 "nbformat_minor": 4
}
