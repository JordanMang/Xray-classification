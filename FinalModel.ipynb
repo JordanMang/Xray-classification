{
 "cells": [
  {
   "cell_type": "code",
   "execution_count": 14,
   "metadata": {},
   "outputs": [],
   "source": [
    "import numpy as np\n",
    "from matplotlib import pyplot as plt\n",
    "from sklearn.metrics import classification_report,confusion_matrix\n",
    "from sklearn import metrics\n",
    "\n",
    "import tensorflow as tf\n",
    "from tensorflow.keras import datasets, layers, models, Sequential\n",
    "from tensorflow.keras import models, layers, optimizers, regularizers\n",
    "# from tensorflow.keras.models import Sequential\n",
    "from tensorflow.keras.metrics import Precision, Recall, BinaryAccuracy\n",
    "\n",
    "from tensorflow.keras.layers import Conv2D, MaxPooling2D, Dense, Flatten, Dropout\n",
    "from keras.preprocessing.image import ImageDataGenerator\n",
    "from tensorflow.keras.models import load_model\n",
    "\n",
    "import cv2\n",
    "\n",
    "import os"
   ]
  },
  {
   "cell_type": "markdown",
   "metadata": {},
   "source": [
    "In an attempt to get a better split of train/test/validate, we've combined the original folders and resplit them up in the below field. The new ratio has 65% train, 15% validate, 20% test.\n",
    "\n",
    "splitfolders.ratio(\"./data/combined/\", output=\"combined_ttv\", seed=42, ratio=(.65, .15, .2), group_prefix=None, move=True)"
   ]
  },
  {
   "cell_type": "code",
   "execution_count": 2,
   "metadata": {
    "scrolled": true
   },
   "outputs": [],
   "source": [
    "# Get photos for model training\n",
    "# train = tf.keras.utils.image_dataset_from_directory('./data/archive/chest_xray/chest_xray/train')\n",
    "# test = tf.keras.utils.image_dataset_from_directory('./data/archive/chest_xray/chest_xray/test')\n",
    "# val = tf.keras.utils.image_dataset_from_directory('./data/archive/chest_xray/chest_xray/val')"
   ]
  },
  {
   "cell_type": "code",
   "execution_count": 3,
   "metadata": {},
   "outputs": [],
   "source": [
    "def Get_Photo_Data(location, num_photos):\n",
    "    '''\n",
    "    Returns photos from data folder(resized, grayscaled) and binary class.\n",
    "    \n",
    "    '''\n",
    "    datagen = ImageDataGenerator(rescale=1./255)\n",
    "    \n",
    "    data = datagen.flow_from_directory(\n",
    "        location,\n",
    "        target_size=(150, 150),\n",
    "        batch_size=num_photos,\n",
    "        color_mode='grayscale',\n",
    "        class_mode='binary'\n",
    "    )\n",
    "    \n",
    "    return data"
   ]
  },
  {
   "cell_type": "code",
   "execution_count": 4,
   "metadata": {},
   "outputs": [
    {
     "name": "stdout",
     "output_type": "stream",
     "text": [
      "Found 3805 images belonging to 2 classes.\n",
      "Found 1174 images belonging to 2 classes.\n",
      "Found 877 images belonging to 2 classes.\n"
     ]
    }
   ],
   "source": [
    "#getting images and labels for models\n",
    "train_photos = Get_Photo_Data('./combined_ttv/train/', 3805)\n",
    "test_photos = Get_Photo_Data('./combined_ttv/test/', 1174)\n",
    "val_photos = Get_Photo_Data('./combined_ttv/val/', 877)"
   ]
  },
  {
   "cell_type": "code",
   "execution_count": 5,
   "metadata": {},
   "outputs": [],
   "source": [
    "# unpack images and labels for CM/dummy model\n",
    "train_data, train_labels = next (train_photos)\n",
    "test_data, test_labels = next (test_photos)\n",
    "val_data, val_labels = next (val_photos)"
   ]
  },
  {
   "cell_type": "markdown",
   "metadata": {},
   "source": [
    "# Model 7\n",
    "For this model we made the following changes:\n",
    "1. Combine and resplit train/test/validate to get more suitable numbers for each.\n"
   ]
  },
  {
   "cell_type": "code",
   "execution_count": 6,
   "metadata": {},
   "outputs": [],
   "source": [
    "model = Sequential()"
   ]
  },
  {
   "cell_type": "code",
   "execution_count": 7,
   "metadata": {},
   "outputs": [],
   "source": [
    "# Add layers to model\n",
    "# input layer\n",
    "\n",
    "model.add(Conv2D(64, (3,3), 1, activation='relu', padding = 'same', input_shape=(150,150,1)))\n",
    "\n",
    "# add pooling layer(takes max from input window)\n",
    "model.add(layers.MaxPooling2D((2,2)))\n",
    "\n",
    "model.add(Conv2D(32, (3,3), 1, activation='relu', padding = 'same'))\n",
    "\n",
    "# add pooling layer(takes max from input window)\n",
    "model.add(layers.MaxPooling2D((2,2)))\n",
    "\n",
    "# flattens 2d to 1d\n",
    "model.add(layers.Flatten())\n",
    "\n",
    "# add dense layer\n",
    "model.add(layers.Dense(16, activation='relu'))\n",
    "\n",
    "model.add(Dropout(0.15))\n",
    "\n",
    "# add output layer\n",
    "model.add(layers.Dense(1, activation='sigmoid'))"
   ]
  },
  {
   "cell_type": "code",
   "execution_count": 8,
   "metadata": {},
   "outputs": [],
   "source": [
    "# compile model with adam for binary model\n",
    "model.compile('adam', loss=tf.losses.BinaryCrossentropy(), metrics=['accuracy',\n",
    "                                                                    Precision(name='precision'),\n",
    "                                                                    Recall(name='recall')])"
   ]
  },
  {
   "cell_type": "code",
   "execution_count": 9,
   "metadata": {},
   "outputs": [
    {
     "name": "stdout",
     "output_type": "stream",
     "text": [
      "Epoch 1/10\n",
      "127/127 [==============================] - 12s 19ms/step - loss: 0.3857 - accuracy: 0.8223 - precision: 0.8152 - recall: 0.9784 - val_loss: 0.3138 - val_accuracy: 0.9179 - val_precision: 0.9356 - val_recall: 0.9531\n",
      "Epoch 2/10\n",
      "127/127 [==============================] - 2s 15ms/step - loss: 0.2766 - accuracy: 0.9141 - precision: 0.9181 - recall: 0.9687 - val_loss: 0.2422 - val_accuracy: 0.9407 - val_precision: 0.9482 - val_recall: 0.9719\n",
      "Epoch 3/10\n",
      "127/127 [==============================] - 2s 17ms/step - loss: 0.2440 - accuracy: 0.9438 - precision: 0.9517 - recall: 0.9723 - val_loss: 0.2309 - val_accuracy: 0.9384 - val_precision: 0.9347 - val_recall: 0.9844\n",
      "Epoch 4/10\n",
      "127/127 [==============================] - 2s 15ms/step - loss: 0.2308 - accuracy: 0.9401 - precision: 0.9512 - recall: 0.9676 - val_loss: 0.2196 - val_accuracy: 0.9430 - val_precision: 0.9443 - val_recall: 0.9797\n",
      "Epoch 5/10\n",
      "127/127 [==============================] - 2s 15ms/step - loss: 0.2141 - accuracy: 0.9482 - precision: 0.9584 - recall: 0.9712 - val_loss: 0.2360 - val_accuracy: 0.9339 - val_precision: 0.9850 - val_recall: 0.9234\n",
      "Epoch 6/10\n",
      "127/127 [==============================] - 2s 15ms/step - loss: 0.2006 - accuracy: 0.9503 - precision: 0.9598 - recall: 0.9726 - val_loss: 0.2142 - val_accuracy: 0.9361 - val_precision: 0.9899 - val_recall: 0.9219\n",
      "Epoch 7/10\n",
      "127/127 [==============================] - 2s 14ms/step - loss: 0.1859 - accuracy: 0.9548 - precision: 0.9680 - recall: 0.9701 - val_loss: 0.2012 - val_accuracy: 0.9407 - val_precision: 0.9349 - val_recall: 0.9875\n",
      "Epoch 8/10\n",
      "127/127 [==============================] - 2s 14ms/step - loss: 0.1614 - accuracy: 0.9656 - precision: 0.9756 - recall: 0.9773 - val_loss: 0.1796 - val_accuracy: 0.9544 - val_precision: 0.9688 - val_recall: 0.9688\n",
      "Epoch 9/10\n",
      "127/127 [==============================] - 2s 14ms/step - loss: 0.1571 - accuracy: 0.9645 - precision: 0.9772 - recall: 0.9741 - val_loss: 0.1748 - val_accuracy: 0.9498 - val_precision: 0.9656 - val_recall: 0.9656\n",
      "Epoch 10/10\n",
      "127/127 [==============================] - 2s 14ms/step - loss: 0.1398 - accuracy: 0.9714 - precision: 0.9812 - recall: 0.9795 - val_loss: 0.1651 - val_accuracy: 0.9475 - val_precision: 0.9655 - val_recall: 0.9625\n"
     ]
    }
   ],
   "source": [
    "# fit model\n",
    "history = model.fit(train_data,\n",
    "               train_labels,\n",
    "               batch_size=30,\n",
    "               epochs=10,\n",
    "               validation_data=(val_data, val_labels))"
   ]
  },
  {
   "cell_type": "code",
   "execution_count": 10,
   "metadata": {},
   "outputs": [
    {
     "data": {
      "image/png": "[encoded data removed]",
      "text/plain": [
       "<Figure size 432x288 with 1 Axes>"
      ]
     },
     "metadata": {
      "needs_background": "light"
     },
     "output_type": "display_data"
    }
   ],
   "source": [
    "# examine loss of model across epochs\n",
    "fig = plt.figure()\n",
    "plt.plot(history.history['loss'], color='teal', label='loss')\n",
    "plt.plot(history.history['val_loss'], color='orange', label='val_loss')\n",
    "fig.suptitle('Loss', fontsize=20)\n",
    "plt.legend(loc=\"upper left\")\n",
    "plt.show()"
   ]
  },
  {
   "cell_type": "code",
   "execution_count": 11,
   "metadata": {},
   "outputs": [
    {
     "data": {
      "image/png": "[encoded data removed]",
      "text/plain": [
       "<Figure size 432x288 with 1 Axes>"
      ]
     },
     "metadata": {
      "needs_background": "light"
     },
     "output_type": "display_data"
    }
   ],
   "source": [
    "# examine accuracy of model across epochs\n",
    "fig = plt.figure()\n",
    "plt.plot(history.history['accuracy'], color='teal', label='accuracy')\n",
    "plt.plot(history.history['val_accuracy'], color='orange', label='val_accuracy')\n",
    "fig.suptitle('Accuracy', fontsize=20)\n",
    "plt.legend(loc=\"upper left\")\n",
    "plt.show()"
   ]
  },
  {
   "cell_type": "code",
   "execution_count": 12,
   "metadata": {},
   "outputs": [
    {
     "name": "stdout",
     "output_type": "stream",
     "text": [
      "37/37 [==============================] - 0s 7ms/step - loss: 0.1797 - accuracy: 0.9583 - precision: 0.9676 - recall: 0.9755\n"
     ]
    }
   ],
   "source": [
    "results=model.evaluate(test_data, test_labels)"
   ]
  },
  {
   "cell_type": "code",
   "execution_count": 13,
   "metadata": {
    "scrolled": true
   },
   "outputs": [
    {
     "name": "stdout",
     "output_type": "stream",
     "text": [
      "Model loss:  0.17966260015964508\n",
      "Model accuracy: 0.9582623243331909\n",
      "Model precision: 0.967555046081543\n",
      "Model recall: 0.9754672646522522\n"
     ]
    }
   ],
   "source": [
    "print(f\"Model loss:  {results[0]}\")\n",
    "print(f\"Model accuracy: {results[1]}\")\n",
    "print(f\"Model precision: {results[2]}\")\n",
    "print(f\"Model recall: {results[3]}\")"
   ]
  },
  {
   "cell_type": "markdown",
   "metadata": {},
   "source": [
    "### Model 7 summary\n",
    "Performance metrics for model 7 are much better than all previous models. By using a recombined dataset to get more balanced train/test/split, we're able to get much better scores with an identical model."
   ]
  },
  {
   "cell_type": "markdown",
   "metadata": {},
   "source": [
    "Compared to our dummy model, we have increased performance across all metrics(Recall is the same):\n",
    "<br> ----------------Precision-----Accuracy-----Recall\n",
    "<br> DUMMY--------0.63----------0.63-------------1\n",
    "<br> FSM,3,4,5,6---0.71---------0.74---------0.98\n",
    "<br> MODEL2------0.63----------0.63-------------1\n",
    "<br> MODEL7------0.96----------0.95---------0.98"
   ]
  },
  {
   "cell_type": "markdown",
   "metadata": {},
   "source": [
    "### Next steps\n",
    "We can consider this our final model, as we are happy with these metrics. It turns out that the Mendeley set is identical to the kaggle set and so there is no need to apply this model to the other dataset.\n",
    "<br>We will save this model for future use."
   ]
  },
  {
   "cell_type": "code",
   "execution_count": 15,
   "metadata": {},
   "outputs": [],
   "source": [
    "# model.save(os.path.join('model','pneumonia_classifier.h5'))"
   ]
  }
 ],
 "metadata": {
  "kernelspec": {
   "display_name": "Python (learn-env)",
   "language": "python",
   "name": "learn-env"
  },
  "language_info": {
   "codemirror_mode": {
    "name": "ipython",
    "version": 3
   },
   "file_extension": ".py",
   "mimetype": "text/x-python",
   "name": "python",
   "nbconvert_exporter": "python",
   "pygments_lexer": "ipython3",
   "version": "3.8.5"
  }
 },
 "nbformat": 4,
 "nbformat_minor": 4
}
