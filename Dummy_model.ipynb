{
 "cells": [
  {
   "cell_type": "code",
   "execution_count": 1,
   "metadata": {},
   "outputs": [],
   "source": [
    "from matplotlib import pyplot as plt\n",
    "\n",
    "import numpy as np\n",
    "\n",
    "from keras.preprocessing.image import ImageDataGenerator\n",
    "\n",
    "from sklearn.metrics import confusion_matrix\n",
    "from sklearn.dummy import DummyClassifier\n",
    "from sklearn import metrics"
   ]
  },
  {
   "cell_type": "code",
   "execution_count": 2,
   "metadata": {},
   "outputs": [],
   "source": [
    "def Get_Photo_Data(location, num_photos):\n",
    "    '''\n",
    "    Returns photos from data folder(resized, grayscaled) and binary class.\n",
    "    \n",
    "    '''\n",
    "    datagen = ImageDataGenerator(rescale=1./255)\n",
    "    \n",
    "    data = datagen.flow_from_directory(\n",
    "        location,\n",
    "        target_size=(150, 150),\n",
    "        batch_size=num_photos,\n",
    "        color_mode='grayscale',\n",
    "        class_mode='binary'\n",
    "    )\n",
    "    \n",
    "    return data"
   ]
  },
  {
   "cell_type": "code",
   "execution_count": 3,
   "metadata": {},
   "outputs": [
    {
     "name": "stdout",
     "output_type": "stream",
     "text": [
      "Found 5216 images belonging to 2 classes.\n",
      "Found 624 images belonging to 2 classes.\n",
      "Found 16 images belonging to 2 classes.\n"
     ]
    }
   ],
   "source": [
    "#getting images and labels for models\n",
    "train_photos = Get_Photo_Data('./data/archive/chest_xray/train/', 5216)\n",
    "test_photos = Get_Photo_Data('./data/archive/chest_xray/test/', 624)\n",
    "val_photos = Get_Photo_Data('./data/archive/chest_xray/val/', 16)"
   ]
  },
  {
   "cell_type": "code",
   "execution_count": 4,
   "metadata": {},
   "outputs": [],
   "source": [
    "# unpack images and labels for CM/dummy model\n",
    "train_data, train_labels = next (train_photos)\n",
    "test_data, test_labels = next (test_photos)\n",
    "val_data, val_labels = next (val_photos)"
   ]
  },
  {
   "cell_type": "code",
   "execution_count": 5,
   "metadata": {},
   "outputs": [
    {
     "data": {
      "text/plain": [
       "DummyClassifier(strategy='most_frequent')"
      ]
     },
     "execution_count": 5,
     "metadata": {},
     "output_type": "execute_result"
    }
   ],
   "source": [
    "# create DummyModel on most frequent class\n",
    "dummy_model =  DummyClassifier(strategy='most_frequent')\n",
    "dummy_model.fit(train_data, train_labels)"
   ]
  },
  {
   "cell_type": "code",
   "execution_count": 6,
   "metadata": {},
   "outputs": [],
   "source": [
    "# creating predictions to evalaute model \n",
    "y_pred = (dummy_model.predict(test_data))"
   ]
  },
  {
   "cell_type": "code",
   "execution_count": 7,
   "metadata": {},
   "outputs": [
    {
     "name": "stdout",
     "output_type": "stream",
     "text": [
      "Dummy Model accuracy: 0.625\n",
      "Dummy Model recall: 1.0\n",
      "Dummy Model precision: 0.625\n"
     ]
    }
   ],
   "source": [
    "# getting metrics for model\n",
    "acc = dummy_model.score(test_data, test_labels)\n",
    "rec = metrics.recall_score(test_labels,y_pred)\n",
    "pre = metrics.precision_score(test_labels,y_pred)\n",
    "\n",
    "print(f\"Dummy Model accuracy: {acc}\")\n",
    "print(f\"Dummy Model recall: {rec}\")\n",
    "print(f\"Dummy Model precision: {pre}\")"
   ]
  },
  {
   "cell_type": "code",
   "execution_count": 8,
   "metadata": {},
   "outputs": [
    {
     "data": {
      "image/png": "[encoded data removed]",
      "text/plain": [
       "<Figure size 432x288 with 2 Axes>"
      ]
     },
     "metadata": {
      "needs_background": "light"
     },
     "output_type": "display_data"
    }
   ],
   "source": [
    "# Create CM for dummy model\n",
    "cm_labels = ['Normal','Pneumonia']\n",
    "\n",
    "actual = test_labels\n",
    "predicted = y_pred\n",
    "\n",
    "confusion_matrix = metrics.confusion_matrix(actual, predicted)\n",
    "\n",
    "cm_display = metrics.ConfusionMatrixDisplay(confusion_matrix = confusion_matrix, display_labels = ['Normal','Pneumonia'])\n",
    "\n",
    "cm_display.plot()\n",
    "plt.show()"
   ]
  }
 ],
 "metadata": {
  "kernelspec": {
   "display_name": "Python (learn-env)",
   "language": "python",
   "name": "learn-env"
  },
  "language_info": {
   "codemirror_mode": {
    "name": "ipython",
    "version": 3
   },
   "file_extension": ".py",
   "mimetype": "text/x-python",
   "name": "python",
   "nbconvert_exporter": "python",
   "pygments_lexer": "ipython3",
   "version": "3.8.5"
  }
 },
 "nbformat": 4,
 "nbformat_minor": 4
}
