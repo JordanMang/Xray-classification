{
 "cells": [
  {
   "cell_type": "code",
   "execution_count": 2,
   "metadata": {},
   "outputs": [],
   "source": [
    "import numpy as np\n",
    "from matplotlib import pyplot as plt\n",
    "from sklearn.metrics import classification_report,confusion_matrix\n",
    "from sklearn import metrics\n",
    "\n",
    "import tensorflow as tf\n",
    "from tensorflow.keras import datasets, layers, models, Sequential\n",
    "from tensorflow.keras import models, layers, optimizers, regularizers\n",
    "# from tensorflow.keras.models import Sequential\n",
    "from tensorflow.keras.metrics import Precision, Recall, BinaryAccuracy\n",
    "\n",
    "from tensorflow.keras.layers import Conv2D, MaxPooling2D, Dense, Flatten, Dropout\n",
    "from keras.preprocessing.image import ImageDataGenerator\n",
    "import splitfolders\n",
    "\n",
    "import cv2\n",
    "\n",
    "import os"
   ]
  },
  {
   "cell_type": "markdown",
   "metadata": {},
   "source": [
    "For this final model we'll be using the full 8Gb Mendeley dataset. The ratio has 65% train, 15% validate, 20% test.\n",
    "\n",
    "splitfolders.ratio(\"./data/combined/\", output=\"combined_ttv\", seed=42, ratio=(.65, .15, .2), group_prefix=None, move=True)"
   ]
  },
  {
   "cell_type": "code",
   "execution_count": 3,
   "metadata": {},
   "outputs": [
    {
     "name": "stderr",
     "output_type": "stream",
     "text": [
      "Copying files: 5856 files [00:04, 1337.43 files/s]\n"
     ]
    }
   ],
   "source": [
    "splitfolders.ratio(\"./data/Mendeleycombined/\", output=\"mendeley_combined_ttv\", seed=42, ratio=(.65, .15, .2), group_prefix=None, move=True)"
   ]
  },
  {
   "cell_type": "code",
   "execution_count": 2,
   "metadata": {
    "scrolled": true
   },
   "outputs": [],
   "source": [
    "# Get photos for model training\n",
    "# train = tf.keras.utils.image_dataset_from_directory('./data/archive/chest_xray/chest_xray/train')\n",
    "# test = tf.keras.utils.image_dataset_from_directory('./data/archive/chest_xray/chest_xray/test')\n",
    "# val = tf.keras.utils.image_dataset_from_directory('./data/archive/chest_xray/chest_xray/val')"
   ]
  },
  {
   "cell_type": "code",
   "execution_count": 3,
   "metadata": {},
   "outputs": [],
   "source": [
    "def Get_Photo_Data(location, num_photos):\n",
    "    '''\n",
    "    Returns photos from data folder(resized, grayscaled) and binary class.\n",
    "    \n",
    "    '''\n",
    "    datagen = ImageDataGenerator(rescale=1./255)\n",
    "    \n",
    "    data = datagen.flow_from_directory(\n",
    "        location,\n",
    "        target_size=(150, 150),\n",
    "        batch_size=num_photos,\n",
    "        color_mode='grayscale',\n",
    "        class_mode='binary'\n",
    "    )\n",
    "    \n",
    "    return data"
   ]
  },
  {
   "cell_type": "code",
   "execution_count": 4,
   "metadata": {},
   "outputs": [
    {
     "name": "stdout",
     "output_type": "stream",
     "text": [
      "Found 3805 images belonging to 2 classes.\n",
      "Found 1174 images belonging to 2 classes.\n",
      "Found 877 images belonging to 2 classes.\n"
     ]
    }
   ],
   "source": [
    "#getting images and labels for models\n",
    "train_photos = Get_Photo_Data('./combined_ttv/train/', 3805)\n",
    "test_photos = Get_Photo_Data('./combined_ttv/test/', 1174)\n",
    "val_photos = Get_Photo_Data('./combined_ttv/val/', 877)"
   ]
  },
  {
   "cell_type": "code",
   "execution_count": 5,
   "metadata": {},
   "outputs": [],
   "source": [
    "# unpack images and labels for CM/dummy model\n",
    "train_data, train_labels = next (train_photos)\n",
    "test_data, test_labels = next (test_photos)\n",
    "val_data, val_labels = next (val_photos)"
   ]
  },
  {
   "cell_type": "markdown",
   "metadata": {},
   "source": [
    "# Model 7\n",
    "For this model we made the following changes:\n",
    "1. Combine and resplit train/test/validate to get more suitable numbers for each.\n"
   ]
  },
  {
   "cell_type": "code",
   "execution_count": 6,
   "metadata": {},
   "outputs": [],
   "source": [
    "model = Sequential()"
   ]
  },
  {
   "cell_type": "code",
   "execution_count": 7,
   "metadata": {},
   "outputs": [],
   "source": [
    "# Add layers to model\n",
    "# input layer\n",
    "\n",
    "model.add(Conv2D(64, (3,3), 1, activation='relu', padding = 'same', input_shape=(150,150,1)))\n",
    "\n",
    "# add pooling layer(takes max from input window)\n",
    "model.add(layers.MaxPooling2D((2,2)))\n",
    "\n",
    "model.add(Conv2D(32, (3,3), 1, activation='relu', padding = 'same'))\n",
    "\n",
    "# add pooling layer(takes max from input window)\n",
    "model.add(layers.MaxPooling2D((2,2)))\n",
    "\n",
    "# flattens 2d to 1d\n",
    "model.add(layers.Flatten())\n",
    "\n",
    "# add dense layer\n",
    "model.add(layers.Dense(16, activation='relu'))\n",
    "\n",
    "model.add(Dropout(0.15))\n",
    "\n",
    "# add output layer\n",
    "model.add(layers.Dense(1, activation='sigmoid'))"
   ]
  },
  {
   "cell_type": "code",
   "execution_count": 8,
   "metadata": {},
   "outputs": [],
   "source": [
    "# compile model with adam for binary model\n",
    "model.compile('adam', loss=tf.losses.BinaryCrossentropy(), metrics=['accuracy',\n",
    "                                                                    Precision(name='precision'),\n",
    "                                                                    Recall(name='recall')])"
   ]
  },
  {
   "cell_type": "code",
   "execution_count": 9,
   "metadata": {},
   "outputs": [
    {
     "name": "stdout",
     "output_type": "stream",
     "text": [
      "Epoch 1/10\n",
      "127/127 [==============================] - 41s 271ms/step - loss: 0.3755 - accuracy: 0.8294 - precision: 0.8176 - recall: 0.9863 - val_loss: 0.2795 - val_accuracy: 0.9190 - val_precision: 0.9141 - val_recall: 0.9812\n",
      "Epoch 2/10\n",
      "127/127 [==============================] - 64s 503ms/step - loss: 0.2779 - accuracy: 0.9159 - precision: 0.9177 - recall: 0.9719 - val_loss: 0.2414 - val_accuracy: 0.9373 - val_precision: 0.9372 - val_recall: 0.9797\n",
      "Epoch 3/10\n",
      "127/127 [==============================] - 54s 432ms/step - loss: 0.2477 - accuracy: 0.9377 - precision: 0.9462 - recall: 0.9698 - val_loss: 0.2259 - val_accuracy: 0.9430 - val_precision: 0.9403 - val_recall: 0.9844\n",
      "Epoch 4/10\n",
      "127/127 [==============================] - 28s 221ms/step - loss: 0.2310 - accuracy: 0.9456 - precision: 0.9531 - recall: 0.9734 - val_loss: 0.2143 - val_accuracy: 0.9430 - val_precision: 0.9483 - val_recall: 0.9750\n",
      "Epoch 5/10\n",
      "127/127 [==============================] - 14s 112ms/step - loss: 0.2087 - accuracy: 0.9506 - precision: 0.9635 - recall: 0.9690 - val_loss: 0.2083 - val_accuracy: 0.9453 - val_precision: 0.9821 - val_recall: 0.9422\n",
      "Epoch 6/10\n",
      "127/127 [==============================] - 12s 96ms/step - loss: 0.2032 - accuracy: 0.9482 - precision: 0.9607 - recall: 0.9687 - val_loss: 0.2044 - val_accuracy: 0.9464 - val_precision: 0.9513 - val_recall: 0.9766\n",
      "Epoch 7/10\n",
      "127/127 [==============================] - 14s 111ms/step - loss: 0.1783 - accuracy: 0.9601 - precision: 0.9713 - recall: 0.9741 - val_loss: 0.1958 - val_accuracy: 0.9453 - val_precision: 0.9684 - val_recall: 0.9563\n",
      "Epoch 8/10\n",
      "127/127 [==============================] - 31s 241ms/step - loss: 0.1611 - accuracy: 0.9690 - precision: 0.9805 - recall: 0.9770 - val_loss: 0.1825 - val_accuracy: 0.9453 - val_precision: 0.9654 - val_recall: 0.9594\n",
      "Epoch 9/10\n",
      "127/127 [==============================] - 12s 81ms/step - loss: 0.1476 - accuracy: 0.9714 - precision: 0.9809 - recall: 0.9798 - val_loss: 0.1797 - val_accuracy: 0.9555 - val_precision: 0.9602 - val_recall: 0.9797\n",
      "Epoch 10/10\n",
      "127/127 [==============================] - 6s 49ms/step - loss: 0.1417 - accuracy: 0.9729 - precision: 0.9823 - recall: 0.9806 - val_loss: 0.1897 - val_accuracy: 0.9453 - val_precision: 0.9554 - val_recall: 0.9703\n"
     ]
    }
   ],
   "source": [
    "# fit model\n",
    "history = model.fit(train_data,\n",
    "               train_labels,\n",
    "               batch_size=30,\n",
    "               epochs=10,\n",
    "               validation_data=(val_data, val_labels))"
   ]
  },
  {
   "cell_type": "code",
   "execution_count": 10,
   "metadata": {},
   "outputs": [
    {
     "data": {
      "image/png": "[encoded data removed]",
      "text/plain": [
       "<Figure size 432x288 with 1 Axes>"
      ]
     },
     "metadata": {
      "needs_background": "light"
     },
     "output_type": "display_data"
    }
   ],
   "source": [
    "# examine loss of model across epochs\n",
    "fig = plt.figure()\n",
    "plt.plot(history.history['loss'], color='teal', label='loss')\n",
    "plt.plot(history.history['val_loss'], color='orange', label='val_loss')\n",
    "fig.suptitle('Loss', fontsize=20)\n",
    "plt.legend(loc=\"upper left\")\n",
    "plt.show()"
   ]
  },
  {
   "cell_type": "code",
   "execution_count": 11,
   "metadata": {},
   "outputs": [
    {
     "data": {
      "image/png": "[encoded data removed]",
      "text/plain": [
       "<Figure size 432x288 with 1 Axes>"
      ]
     },
     "metadata": {
      "needs_background": "light"
     },
     "output_type": "display_data"
    }
   ],
   "source": [
    "# examine accuracy of model across epochs\n",
    "fig = plt.figure()\n",
    "plt.plot(history.history['accuracy'], color='teal', label='accuracy')\n",
    "plt.plot(history.history['val_accuracy'], color='orange', label='val_accuracy')\n",
    "fig.suptitle('Accuracy', fontsize=20)\n",
    "plt.legend(loc=\"upper left\")\n",
    "plt.show()"
   ]
  },
  {
   "cell_type": "code",
   "execution_count": 12,
   "metadata": {},
   "outputs": [
    {
     "name": "stdout",
     "output_type": "stream",
     "text": [
      "37/37 [==============================] - 1s 29ms/step - loss: 0.1995 - accuracy: 0.9523 - precision: 0.9556 - recall: 0.9801\n"
     ]
    }
   ],
   "source": [
    "results=model.evaluate(test_data, test_labels)"
   ]
  },
  {
   "cell_type": "code",
   "execution_count": 13,
   "metadata": {
    "scrolled": true
   },
   "outputs": [
    {
     "name": "stdout",
     "output_type": "stream",
     "text": [
      "Model loss:  0.199452206492424\n",
      "Model accuracy: 0.9522998332977295\n",
      "Model precision: 0.9555808901786804\n",
      "Model recall: 0.980140209197998\n"
     ]
    }
   ],
   "source": [
    "print(f\"Model loss:  {results[0]}\")\n",
    "print(f\"Model accuracy: {results[1]}\")\n",
    "print(f\"Model precision: {results[2]}\")\n",
    "print(f\"Model recall: {results[3]}\")"
   ]
  },
  {
   "cell_type": "markdown",
   "metadata": {},
   "source": [
    "### Model 7 summary\n",
    "Performance metrics for model 7 are much better than all previous models. By using a recombined dataset to get more balanced train/test/split, we're able to get much better scores with an identical model."
   ]
  },
  {
   "cell_type": "markdown",
   "metadata": {},
   "source": [
    "Compared to our dummy model, we have increased performance across all metrics(Recall is the same):\n",
    "<br> ----------------Precision-----Accuracy-----Recall\n",
    "<br> DUMMY------0.63----------0.63-------------1\n",
    "<br> FSM,3,4,5,6----0.71----------0.74---------0.98\n",
    "<br> MODEL2-----0.63----------0.63-------------1\n",
    "<br> MODEL7-----0.96----------0.95---------0.98"
   ]
  },
  {
   "cell_type": "markdown",
   "metadata": {},
   "source": [
    "### Next steps\n",
    "Next, we'll go ahead and use this same model design on the full 8gb dataset from Mendelay."
   ]
  }
 ],
 "metadata": {
  "kernelspec": {
   "display_name": "Python (learn-env)",
   "language": "python",
   "name": "learn-env"
  },
  "language_info": {
   "codemirror_mode": {
    "name": "ipython",
    "version": 3
   },
   "file_extension": ".py",
   "mimetype": "text/x-python",
   "name": "python",
   "nbconvert_exporter": "python",
   "pygments_lexer": "ipython3",
   "version": "3.8.5"
  }
 },
 "nbformat": 4,
 "nbformat_minor": 4
}
