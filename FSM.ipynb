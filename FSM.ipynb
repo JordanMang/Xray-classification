{
 "cells": [
  {
   "cell_type": "code",
   "execution_count": 1,
   "metadata": {},
   "outputs": [],
   "source": [
    "import numpy as np\n",
    "from matplotlib import pyplot as plt\n",
    "from sklearn.metrics import classification_report,confusion_matrix\n",
    "\n",
    "import tensorflow as tf\n",
    "from tensorflow.keras import datasets, layers, models, Sequential\n",
    "from tensorflow.keras import models, layers, optimizers, regularizers\n",
    "# from tensorflow.keras.models import Sequential\n",
    "from tensorflow.keras.metrics import Precision, Recall, BinaryAccuracy\n",
    "\n",
    "from tensorflow.keras.layers import Conv2D, MaxPooling2D, Dense, Flatten, Dropout\n",
    "\n",
    "import cv2\n",
    "\n",
    "import os"
   ]
  },
  {
   "cell_type": "code",
   "execution_count": 2,
   "metadata": {
    "scrolled": true
   },
   "outputs": [
    {
     "name": "stdout",
     "output_type": "stream",
     "text": [
      "Found 5216 files belonging to 2 classes.\n",
      "Found 624 files belonging to 2 classes.\n",
      "Found 16 files belonging to 2 classes.\n"
     ]
    }
   ],
   "source": [
    "# Get photos for model training\n",
    "train = tf.keras.utils.image_dataset_from_directory('./data/archive/chest_xray/chest_xray/train')\n",
    "test = tf.keras.utils.image_dataset_from_directory('./data/archive/chest_xray/chest_xray/test')\n",
    "val = tf.keras.utils.image_dataset_from_directory('./data/archive/chest_xray/chest_xray/val')"
   ]
  },
  {
   "cell_type": "code",
   "execution_count": 3,
   "metadata": {},
   "outputs": [],
   "source": [
    "# instantiate model\n",
    "model = Sequential()"
   ]
  },
  {
   "cell_type": "code",
   "execution_count": 4,
   "metadata": {},
   "outputs": [],
   "source": [
    "# Add layers to model\n",
    "# input layer\n",
    "model.add(Conv2D(16, (3,3), 1, activation='relu', padding = 'same', input_shape=(256,256,3)))\n",
    "\n",
    "# add pooling layer(takes max from input window)\n",
    "model.add(layers.MaxPooling2D((2,2)))\n",
    "\n",
    "# flattens 2d to 1d\n",
    "model.add(layers.Flatten())\n",
    "\n",
    "# add dense layer\n",
    "model.add(layers.Dense(16, activation='relu'))\n",
    "\n",
    "# add output layer\n",
    "model.add(layers.Dense(1, activation='sigmoid'))"
   ]
  },
  {
   "cell_type": "code",
   "execution_count": 5,
   "metadata": {},
   "outputs": [],
   "source": [
    "# compile model with adam for binary model\n",
    "model.compile('adam', loss=tf.losses.BinaryCrossentropy(), metrics=['accuracy'])"
   ]
  },
  {
   "cell_type": "code",
   "execution_count": 6,
   "metadata": {},
   "outputs": [
    {
     "name": "stdout",
     "output_type": "stream",
     "text": [
      "Epoch 1/10\n",
      "163/163 [==============================] - 19s 70ms/step - loss: 87.8371 - accuracy: 0.8677 - val_loss: 21.0463 - val_accuracy: 0.6875\n",
      "Epoch 2/10\n",
      "163/163 [==============================] - 11s 62ms/step - loss: 1.6035 - accuracy: 0.9663 - val_loss: 0.5056 - val_accuracy: 0.9375\n",
      "Epoch 3/10\n",
      "163/163 [==============================] - 11s 62ms/step - loss: 0.5446 - accuracy: 0.9804 - val_loss: 3.5710 - val_accuracy: 0.8750\n",
      "Epoch 4/10\n",
      "163/163 [==============================] - 11s 62ms/step - loss: 0.3376 - accuracy: 0.9850 - val_loss: 3.9036 - val_accuracy: 0.8125\n",
      "Epoch 5/10\n",
      "163/163 [==============================] - 11s 62ms/step - loss: 0.2095 - accuracy: 0.9870 - val_loss: 1.0295e-10 - val_accuracy: 1.0000\n",
      "Epoch 6/10\n",
      "163/163 [==============================] - 12s 70ms/step - loss: 0.1503 - accuracy: 0.9916 - val_loss: 3.2295e-06 - val_accuracy: 1.0000\n",
      "Epoch 7/10\n",
      "163/163 [==============================] - 11s 64ms/step - loss: 0.1054 - accuracy: 0.9927 - val_loss: 0.0515 - val_accuracy: 0.9375\n",
      "Epoch 8/10\n",
      "163/163 [==============================] - 11s 63ms/step - loss: 0.2843 - accuracy: 0.9868 - val_loss: 0.4994 - val_accuracy: 0.9375\n",
      "Epoch 9/10\n",
      "163/163 [==============================] - 12s 70ms/step - loss: 0.2168 - accuracy: 0.9891 - val_loss: 0.9384 - val_accuracy: 0.8750\n",
      "Epoch 10/10\n",
      "163/163 [==============================] - 13s 76ms/step - loss: 0.4584 - accuracy: 0.9831 - val_loss: 3.1713 - val_accuracy: 0.9375\n"
     ]
    }
   ],
   "source": [
    "# fit model\n",
    "history = model.fit(train,\n",
    "               batch_size=30,\n",
    "               epochs=10,\n",
    "               validation_data=(val))"
   ]
  },
  {
   "cell_type": "code",
   "execution_count": 7,
   "metadata": {},
   "outputs": [
    {
     "data": {
      "image/png": "[encoded data removed]",
      "text/plain": [
       "<Figure size 432x288 with 1 Axes>"
      ]
     },
     "metadata": {
      "needs_background": "light"
     },
     "output_type": "display_data"
    }
   ],
   "source": [
    "# examine loss of model across epochs\n",
    "fig = plt.figure()\n",
    "plt.plot(history.history['loss'], color='teal', label='loss')\n",
    "plt.plot(history.history['val_loss'], color='orange', label='val_loss')\n",
    "fig.suptitle('Loss', fontsize=20)\n",
    "plt.legend(loc=\"upper left\")\n",
    "plt.show()"
   ]
  },
  {
   "cell_type": "code",
   "execution_count": 8,
   "metadata": {},
   "outputs": [
    {
     "data": {
      "image/png": "[encoded data removed]",
      "text/plain": [
       "<Figure size 432x288 with 1 Axes>"
      ]
     },
     "metadata": {
      "needs_background": "light"
     },
     "output_type": "display_data"
    }
   ],
   "source": [
    "# examine accuracy of model across epochs\n",
    "fig = plt.figure()\n",
    "plt.plot(history.history['accuracy'], color='teal', label='accuracy')\n",
    "plt.plot(history.history['val_accuracy'], color='orange', label='val_accuracy')\n",
    "fig.suptitle('Accuracy', fontsize=20)\n",
    "plt.legend(loc=\"upper left\")\n",
    "plt.show()"
   ]
  },
  {
   "cell_type": "code",
   "execution_count": 9,
   "metadata": {},
   "outputs": [],
   "source": [
    "pre = Precision()\n",
    "re = Recall()\n",
    "acc = BinaryAccuracy()"
   ]
  },
  {
   "cell_type": "code",
   "execution_count": 10,
   "metadata": {},
   "outputs": [
    {
     "name": "stdout",
     "output_type": "stream",
     "text": [
      "1/1 [==============================] - 0s 159ms/step\n",
      "1/1 [==============================] - 0s 68ms/step\n",
      "1/1 [==============================] - 0s 41ms/step\n",
      "1/1 [==============================] - 0s 30ms/step\n",
      "1/1 [==============================] - 0s 65ms/step\n",
      "1/1 [==============================] - 0s 32ms/step\n",
      "1/1 [==============================] - 0s 39ms/step\n",
      "1/1 [==============================] - 0s 31ms/step\n",
      "1/1 [==============================] - 0s 30ms/step\n",
      "1/1 [==============================] - 0s 36ms/step\n",
      "1/1 [==============================] - 0s 35ms/step\n",
      "1/1 [==============================] - 0s 38ms/step\n",
      "1/1 [==============================] - 0s 47ms/step\n",
      "1/1 [==============================] - 0s 38ms/step\n",
      "1/1 [==============================] - 0s 58ms/step\n",
      "1/1 [==============================] - 0s 37ms/step\n",
      "1/1 [==============================] - 0s 37ms/step\n",
      "1/1 [==============================] - 0s 39ms/step\n",
      "1/1 [==============================] - 0s 41ms/step\n",
      "1/1 [==============================] - 0s 83ms/step\n"
     ]
    }
   ],
   "source": [
    "# Get precision, recall, and accuracy for test batch set\n",
    "for batch in test.as_numpy_iterator(): \n",
    "    X, y = batch\n",
    "    yhat = model.predict(X)\n",
    "    pre.update_state(y, yhat)\n",
    "    re.update_state(y, yhat)\n",
    "    acc.update_state(y, yhat)"
   ]
  },
  {
   "cell_type": "code",
   "execution_count": 11,
   "metadata": {
    "scrolled": true
   },
   "outputs": [
    {
     "name": "stdout",
     "output_type": "stream",
     "text": [
      "Precision: 0.7066420912742615, Recall: 0.9820512533187866, Accuracy: 0.7339743375778198\n"
     ]
    }
   ],
   "source": [
    "print(f'Precision: {pre.result()}, Recall: {re.result()}, Accuracy: {acc.result()}')"
   ]
  },
  {
   "cell_type": "markdown",
   "metadata": {},
   "source": [
    "Compared to our dummy model, we have increased performance across all metrics(Recall is the same):\n",
    "<br> ----------------Precision-----Accuracy-----Recall\n",
    "<br> DUMMY------0.63----------0.63---------1\n",
    "<br> FSM--------0.71----------0.74---------0.98"
   ]
  }
 ],
 "metadata": {
  "kernelspec": {
   "display_name": "Python (learn-env)",
   "language": "python",
   "name": "learn-env"
  },
  "language_info": {
   "codemirror_mode": {
    "name": "ipython",
    "version": 3
   },
   "file_extension": ".py",
   "mimetype": "text/x-python",
   "name": "python",
   "nbconvert_exporter": "python",
   "pygments_lexer": "ipython3",
   "version": "3.8.5"
  }
 },
 "nbformat": 4,
 "nbformat_minor": 4
}
